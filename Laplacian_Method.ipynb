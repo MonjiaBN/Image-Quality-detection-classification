{
 "cells": [
  {
   "cell_type": "code",
   "execution_count": 13,
   "metadata": {},
   "outputs": [
    {
     "name": "stdout",
     "output_type": "stream",
     "text": [
      "all packages are imported\n"
     ]
    }
   ],
   "source": [
    "import os\n",
    "import cv2\n",
    "import pandas as pd\n",
    "import seaborn as sns\n",
    "import numpy as np\n",
    "from sklearn import metrics\n",
    "from sklearn.metrics import accuracy_score, confusion_matrix,precision_score,f1_score,classification_report, roc_curve\n",
    "import matplotlib.pyplot as plt\n",
    "print('all packages are imported')"
   ]
  },
  {
   "cell_type": "code",
   "execution_count": 2,
   "metadata": {},
   "outputs": [],
   "source": [
    "#read data\n",
    "NaturalBlurSet = pd.read_excel(\"C:/Users/Client/Desktop/blur detection/CERTH_ImageBlurDataset/EvaluationSet/NaturalBlurSet.xlsx\")\n",
    "DigitalBlurSet = pd.read_excel(\"C:/Users/Client/Desktop/blur detection/CERTH_ImageBlurDataset/EvaluationSet/DigitalBlurSet.xlsx\")"
   ]
  },
  {
   "cell_type": "code",
   "execution_count": 3,
   "metadata": {},
   "outputs": [
    {
     "name": "stdout",
     "output_type": "stream",
     "text": [
      "informations about the dataset\n",
      "<class 'pandas.core.frame.DataFrame'>\n",
      "RangeIndex: 1000 entries, 0 to 999\n",
      "Data columns (total 2 columns):\n",
      " #   Column      Non-Null Count  Dtype \n",
      "---  ------      --------------  ----- \n",
      " 0   Image Name  1000 non-null   object\n",
      " 1   Blur Label  1000 non-null   int64 \n",
      "dtypes: int64(1), object(1)\n",
      "memory usage: 15.8+ KB\n"
     ]
    }
   ],
   "source": [
    "print('informations about the dataset')\n",
    "NaturalBlurSet.info()"
   ]
  },
  {
   "cell_type": "code",
   "execution_count": 4,
   "metadata": {},
   "outputs": [
    {
     "data": {
      "text/plain": [
       "Image Name    0\n",
       "Blur Label    0\n",
       "dtype: int64"
      ]
     },
     "execution_count": 4,
     "metadata": {},
     "output_type": "execute_result"
    }
   ],
   "source": [
    "NaturalBlurSet.isnull().sum() "
   ]
  },
  {
   "cell_type": "code",
   "execution_count": 5,
   "metadata": {
    "scrolled": true
   },
   "outputs": [],
   "source": [
    "DigitalBlurSet['MyDigital Blur'] = DigitalBlurSet['MyDigital Blur'].apply(lambda x : x.strip())\n",
    "DigitalBlurSet = DigitalBlurSet.rename(index=str, columns={\"Unnamed: 1\": \"Blur Label\"})\n",
    "DigitalBlurSet = DigitalBlurSet.rename(index=str, columns={\"MyDigital Blur\": \"Image Name\"})"
   ]
  },
  {
   "cell_type": "code",
   "execution_count": 6,
   "metadata": {},
   "outputs": [],
   "source": [
    "def laplacian_variance_image(image):\n",
    "    # compute the Laplacian of the image and then return the focus\n",
    "    #convolves the image with the 3 x 3 Laplacian operator and returns the variance.\n",
    "    return cv2.Laplacian(image, cv2.CV_64F).var() # grayscale image"
   ]
  },
  {
   "cell_type": "code",
   "execution_count": 8,
   "metadata": {},
   "outputs": [],
   "source": [
    "# loop over the input images\n",
    "threshold =300 #fix a threshold ( nees to tune the value depend on the dataset)\n",
    "def detect_blur(img_Path):\n",
    "    image = cv2.imread(img_Path)\n",
    "    gray = cv2.cvtColor(image, cv2.COLOR_BGR2GRAY)\n",
    "    fm = laplacian_variance_image(gray) \n",
    "    label = -1  # clear image\n",
    "    if fm < threshold:\n",
    "        label = 1   # blur image\n",
    "    return label "
   ]
  },
  {
   "cell_type": "code",
   "execution_count": 9,
   "metadata": {},
   "outputs": [],
   "source": [
    "#prediction\n",
    "Natural_test_value = []\n",
    "Natural_predicted_value = []\n",
    "Digital_test_value = []\n",
    "Digital_predicted_value = []\n",
    "\n",
    "#zip :return a zip object : generate a list of tuples that contain elements from each image name and blur label \n",
    "for name_im,label in zip(NaturalBlurSet[\"Image Name\"],NaturalBlurSet[\"Blur Label\"]): \n",
    "    path = 'C:/Users/Client/Desktop/blur detection/CERTH_ImageBlurDataset/EvaluationSet/NaturalBlurSet'\n",
    "    img_path=os.path.join(path ,name_im +'.jpg')\n",
    "    Natural_predicted_value.append(detect_blur(img_path))\n",
    "    Natural_test_value.append(label)\n",
    "    \n",
    "for name_im,label in zip(DigitalBlurSet[\"Image Name\"],DigitalBlurSet[\"Blur Label\"]):\n",
    "    path = 'C:/Users/Client/Desktop/blur detection/CERTH_ImageBlurDataset/EvaluationSet/DigitalBlurSet'\n",
    "    img_path=os.path.join(path ,name_im)\n",
    "    Digital_predicted_value.append(detect_blur(img_path))\n",
    "    Digital_test_value.append(label) "
   ]
  },
  {
   "cell_type": "code",
   "execution_count": 10,
   "metadata": {},
   "outputs": [
    {
     "name": "stdout",
     "output_type": "stream",
     "text": [
      "accuracy Score for NaturalBlurSet: 48.70%\n"
     ]
    }
   ],
   "source": [
    "accuracy_NBS=accuracy_score(Natural_test_value,Natural_predicted_value)\n",
    "print(\"accuracy Score for NaturalBlurSet: {:.2f}%\".format(accuracy_NBS * 100))"
   ]
  },
  {
   "cell_type": "code",
   "execution_count": 11,
   "metadata": {},
   "outputs": [
    {
     "name": "stdout",
     "output_type": "stream",
     "text": [
      "accuracy Score for DigitalBlurSet: 95.83%\n"
     ]
    }
   ],
   "source": [
    "accuracy_DBS=accuracy_score(Digital_test_value,Digital_predicted_value)\n",
    "print(\"accuracy Score for DigitalBlurSet: {:.2f}%\".format(accuracy_DBS * 100))"
   ]
  },
  {
   "cell_type": "code",
   "execution_count": 14,
   "metadata": {},
   "outputs": [
    {
     "name": "stdout",
     "output_type": "stream",
     "text": [
      "Confusion matrix : \n",
      " [[ 81 508]\n",
      " [  5 406]]\n",
      "Natural Blur dataset roc_acc :  0.5626778861446057\n",
      "Classification report : \n",
      "               precision    recall  f1-score   support\n",
      "\n",
      "          -1       0.94      0.14      0.24       589\n",
      "           1       0.44      0.99      0.61       411\n",
      "\n",
      "    accuracy                           0.49      1000\n",
      "   macro avg       0.69      0.56      0.43      1000\n",
      "weighted avg       0.74      0.49      0.39      1000\n",
      "\n"
     ]
    },
    {
     "data": {
      "image/png": "[encoded data removed]",
      "text/plain": [
       "<Figure size 432x288 with 2 Axes>"
      ]
     },
     "metadata": {
      "needs_background": "light"
     },
     "output_type": "display_data"
    }
   ],
   "source": [
    "# Evaluation\n",
    "#Receiver Operating Characteristic (ROC) curve\n",
    "c_matrix = confusion_matrix(Natural_test_value,Natural_predicted_value)\n",
    "print('Confusion matrix : \\n',c_matrix)\n",
    "\n",
    "\n",
    "\n",
    "fpr, tpr, threshold=metrics.roc_curve(Natural_test_value,Natural_predicted_value)\n",
    "roc_auc = metrics.auc(fpr, tpr)\n",
    "print(\"Natural Blur dataset roc_acc : \",roc_auc)  #false positive rate & true positive rate\n",
    "\n",
    "#classification report for precision, recall f1-score and accuracy\n",
    "cl_rep = classification_report(Natural_test_value,Natural_predicted_value)\n",
    "print('Classification report : \\n',cl_rep)\n",
    "\n",
    "#Draw Confusion Matrix \n",
    "sns.heatmap(c_matrix, annot=True,cmap='viridis')\n",
    "plt.title('The confusion matrix')\n",
    "plt.xlabel('predicted values')\n",
    "plt.ylabel('actual values')\n",
    "plt.show()\n",
    "\n",
    "\n",
    " "
   ]
  },
  {
   "cell_type": "code",
   "execution_count": 15,
   "metadata": {},
   "outputs": [
    {
     "name": "stdout",
     "output_type": "stream",
     "text": [
      "Digital Blur dataset roc_acc :  0.6666666666666667\n",
      "Classification report : \n",
      "               precision    recall  f1-score   support\n",
      "\n",
      "          -1       1.00      0.33      0.50        30\n",
      "           1       0.96      1.00      0.98       450\n",
      "\n",
      "    accuracy                           0.96       480\n",
      "   macro avg       0.98      0.67      0.74       480\n",
      "weighted avg       0.96      0.96      0.95       480\n",
      "\n",
      "Confusion matrix : \n",
      " [[ 10  20]\n",
      " [  0 450]]\n"
     ]
    },
    {
     "data": {
      "image/png": "[encoded data removed]",
      "text/plain": [
       "<Figure size 432x288 with 2 Axes>"
      ]
     },
     "metadata": {
      "needs_background": "light"
     },
     "output_type": "display_data"
    }
   ],
   "source": [
    "fpr, tpr, threshold=roc_curve(Digital_test_value,Digital_predicted_value)\n",
    "roc_auc = metrics.auc(fpr, tpr)\n",
    "print(\"Digital Blur dataset roc_acc : \", roc_auc)\n",
    "\n",
    "#classification report for precision, recall f1-score and accuracy\n",
    "cl_rep = classification_report(Digital_test_value,Digital_predicted_value)\n",
    "print('Classification report : \\n',cl_rep)\n",
    "\n",
    "c_matrix = confusion_matrix(Digital_test_value,Digital_predicted_value)\n",
    "print('Confusion matrix : \\n',c_matrix)\n",
    "\n",
    "#Draw Confusion Matrix \n",
    "sns.heatmap(c_matrix, annot=True,cmap='viridis')\n",
    "plt.title('The confusion matrix')\n",
    "plt.xlabel('predicted values')\n",
    "plt.ylabel('actual values')\n",
    "plt.show()\n"
   ]
  }
 ],
 "metadata": {
  "kernelspec": {
   "display_name": "Python 3",
   "language": "python",
   "name": "python3"
  },
  "language_info": {
   "codemirror_mode": {
    "name": "ipython",
    "version": 3
   },
   "file_extension": ".py",
   "mimetype": "text/x-python",
   "name": "python",
   "nbconvert_exporter": "python",
   "pygments_lexer": "ipython3",
   "version": "3.7.7"
  }
 },
 "nbformat": 4,
 "nbformat_minor": 4
}
