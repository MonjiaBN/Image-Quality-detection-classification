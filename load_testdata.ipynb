{
 "cells": [
  {
   "cell_type": "code",
   "execution_count": 2,
   "metadata": {},
   "outputs": [
    {
     "name": "stderr",
     "output_type": "stream",
     "text": [
      "Using TensorFlow backend.\n"
     ]
    },
    {
     "name": "stdout",
     "output_type": "stream",
     "text": [
      "all package are imported\n"
     ]
    }
   ],
   "source": [
    "import os\n",
    "import numpy as np\n",
    "import pickle\n",
    "import pandas as pd\n",
    "import warnings\n",
    "warnings.filterwarnings('ignore')\n",
    "import tensorflow\n",
    "from tensorflow import keras\n",
    "from keras.preprocessing import image\n",
    "print('all package are imported')"
   ]
  },
  {
   "cell_type": "code",
   "execution_count": 3,
   "metadata": {},
   "outputs": [],
   "source": [
    "#load test data\n",
    "X_test=[]\n",
    "Y_test=[]\n"
   ]
  },
  {
   "cell_type": "code",
   "execution_count": 4,
   "metadata": {},
   "outputs": [],
   "source": [
    "NaturalBlurSet = pd.read_excel(\"C:/Users/Client/Desktop/blur detection/CERTH_ImageBlurDataset/EvaluationSet/NaturalBlurSet.xlsx\")\n",
    "DigitalBlurSet = pd.read_excel(\"C:/Users/Client/Desktop/blur detection/CERTH_ImageBlurDataset/EvaluationSet/DigitalBlurSet.xlsx\")"
   ]
  },
  {
   "cell_type": "code",
   "execution_count": 5,
   "metadata": {},
   "outputs": [],
   "source": [
    "DigitalBlurSet['MyDigital Blur'] = DigitalBlurSet['MyDigital Blur'].apply(lambda x : x.strip())\n",
    "DigitalBlurSet = DigitalBlurSet.rename(index=str, columns={\"Unnamed: 1\": \"Blur Label\"})\n",
    "DigitalBlurSet = DigitalBlurSet.rename(index=str, columns={\"MyDigital Blur\": \"Image Name\"})"
   ]
  },
  {
   "cell_type": "code",
   "execution_count": 6,
   "metadata": {},
   "outputs": [
    {
     "name": "stdout",
     "output_type": "stream",
     "text": [
      "testset loaded\n"
     ]
    }
   ],
   "source": [
    "input_size = (196,196)\n",
    "for name_im,label in zip(NaturalBlurSet[\"Image Name\"],NaturalBlurSet[\"Blur Label\"]):  \n",
    "    path='C:/Users/Client/Desktop/blur detection/CERTH_ImageBlurDataset/EvaluationSet/NaturalBlurSet/'\n",
    "    img_path=os.path.join(path ,name_im +'.jpg')\n",
    "    img = image.load_img(img_path, target_size=input_size)\n",
    "    X_test.append((1/255)*np.asarray(img)) # between 0 and 1\n",
    " \n",
    "    if label ==1:\n",
    "        Y_test.append(1) #blur image\n",
    "    else :\n",
    "        Y_test.append(0) #clear image\n",
    "        \n",
    "for name_im,label in zip(DigitalBlurSet[\"Image Name\"],DigitalBlurSet[\"Blur Label\"]):  \n",
    "    \n",
    "    path='C:/Users/Client/Desktop/blur detection/CERTH_ImageBlurDataset/EvaluationSet/DigitalBlurSet/'\n",
    " \n",
    "    img_path=os.path.join(path ,name_im)\n",
    "    img = image.load_img(img_path, target_size=input_size)\n",
    "    X_test.append((1/255)*np.asarray(img))\n",
    " \n",
    "    if label ==1:\n",
    "        Y_test.append(1) #blur image\n",
    "    else :\n",
    "        Y_test.append(0) #clear image\n",
    "\n",
    "print(\"testset loaded\")"
   ]
  },
  {
   "cell_type": "code",
   "execution_count": 7,
   "metadata": {},
   "outputs": [],
   "source": [
    "# Save the arrays as a pickle file\n",
    "with open('X_test.pkl', 'wb') as picklefile:\n",
    "    pickle.dump(X_test, picklefile)"
   ]
  },
  {
   "cell_type": "code",
   "execution_count": 8,
   "metadata": {},
   "outputs": [],
   "source": [
    "with open('Y_test.pkl', 'wb') as picklefile:\n",
    "    pickle.dump(Y_test, picklefile)"
   ]
  }
 ],
 "metadata": {
  "kernelspec": {
   "display_name": "Python 3",
   "language": "python",
   "name": "python3"
  },
  "language_info": {
   "codemirror_mode": {
    "name": "ipython",
    "version": 3
   },
   "file_extension": ".py",
   "mimetype": "text/x-python",
   "name": "python",
   "nbconvert_exporter": "python",
   "pygments_lexer": "ipython3",
   "version": "3.7.7"
  }
 },
 "nbformat": 4,
 "nbformat_minor": 4
}
