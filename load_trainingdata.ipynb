{
 "cells": [
  {
   "cell_type": "code",
   "execution_count": 1,
   "metadata": {},
   "outputs": [
    {
     "name": "stderr",
     "output_type": "stream",
     "text": [
      "Using TensorFlow backend.\n"
     ]
    },
    {
     "name": "stdout",
     "output_type": "stream",
     "text": [
      "all package are imported\n"
     ]
    }
   ],
   "source": [
    "import os\n",
    "import numpy as np\n",
    "import pickle\n",
    "import pandas as pd\n",
    "import warnings\n",
    "warnings.filterwarnings('ignore')\n",
    "import tensorflow\n",
    "from tensorflow import keras\n",
    "from keras.preprocessing import image\n",
    "print('all package are imported')"
   ]
  },
  {
   "cell_type": "code",
   "execution_count": 2,
   "metadata": {},
   "outputs": [],
   "source": [
    "#load training data\n",
    "# Initialize list \n",
    "X_train = []\n",
    "Y_train = []"
   ]
  },
  {
   "cell_type": "code",
   "execution_count": 3,
   "metadata": {},
   "outputs": [
    {
     "name": "stdout",
     "output_type": "stream",
     "text": [
      "Finished loading\n"
     ]
    }
   ],
   "source": [
    "path = ['C:/Users/Client/Desktop/blur detection/CERTH_ImageBlurDataset/TrainingSet/Undistorted/',\n",
    "              'C:/Users/Client/Desktop/blur detection/CERTH_ImageBlurDataset/TrainingSet/Artificially-Blurred/',\n",
    "              'C:/Users/Client/Desktop/blur detection/CERTH_ImageBlurDataset/TrainingSet/Naturally-Blurred/',\n",
    "              'C:/Users/Client/Desktop/blur detection/CERTH_ImageBlurDataset/TrainingSet/NewDigitalBlur/'\n",
    "             ]\n",
    "\n",
    "# load all the image arrays\n",
    "for folder in path:\n",
    "    for filename in os.listdir(folder):\n",
    "        imagepath = folder + filename\n",
    "        img = image.load_img(imagepath, target_size=(196,196))\n",
    "        X_train.append(np.asarray(img)) # convert img to numpy array\n",
    "        if 'Undistorted' in folder:\n",
    "            Y_train.append(0) # 0 for undistorted images,clear images\n",
    "        else:\n",
    "            Y_train.append(1) # 1 for blurred images\n",
    "\n",
    "print(\"Finished loading\")"
   ]
  },
  {
   "cell_type": "code",
   "execution_count": 4,
   "metadata": {},
   "outputs": [
    {
     "name": "stdout",
     "output_type": "stream",
     "text": [
      "1150\n"
     ]
    }
   ],
   "source": [
    "print(len(Y_train))"
   ]
  },
  {
   "cell_type": "code",
   "execution_count": 5,
   "metadata": {},
   "outputs": [
    {
     "name": "stdout",
     "output_type": "stream",
     "text": [
      "1150\n"
     ]
    }
   ],
   "source": [
    "print(len(X_train))"
   ]
  },
  {
   "cell_type": "code",
   "execution_count": 6,
   "metadata": {},
   "outputs": [],
   "source": [
    "# Save the arrays as a pickle file\n",
    "with open('X_train.pkl', 'wb') as picklefile:\n",
    "    pickle.dump(X_train, picklefile)"
   ]
  },
  {
   "cell_type": "code",
   "execution_count": 7,
   "metadata": {},
   "outputs": [],
   "source": [
    "with open('Y_train.pkl', 'wb') as picklefile:\n",
    "    pickle.dump(Y_train, picklefile)"
   ]
  }
 ],
 "metadata": {
  "kernelspec": {
   "display_name": "Python 3",
   "language": "python",
   "name": "python3"
  },
  "language_info": {
   "codemirror_mode": {
    "name": "ipython",
    "version": 3
   },
   "file_extension": ".py",
   "mimetype": "text/x-python",
   "name": "python",
   "nbconvert_exporter": "python",
   "pygments_lexer": "ipython3",
   "version": "3.7.7"
  }
 },
 "nbformat": 4,
 "nbformat_minor": 4
}
